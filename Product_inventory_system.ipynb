{
 "cells": [
  {
   "cell_type": "code",
   "execution_count": 2,
   "metadata": {},
   "outputs": [
    {
     "name": "stdout",
     "output_type": "stream",
     "text": [
      "type add to add a product\n",
      "type quit to quit the program\n",
      "type list of all products\n",
      "Type a commandlist\n",
      "Products is : bullet and its price$28.0\n",
      "Products is : ferrari and its price$18.56\n",
      "type add to add a product\n",
      "type quit to quit the program\n",
      "type list of all products\n",
      "Type a commandtotal\n",
      "total price of product is $46.56\n",
      "\n",
      "\n",
      "type add to add a product\n",
      "type quit to quit the program\n",
      "type list of all products\n",
      "Type a commandquit\n"
     ]
    }
   ],
   "source": [
    "from json import dumps,loads\n",
    "class Product:\n",
    "    def __init__(self,name,price):\n",
    "        self.name=name\n",
    "        self.price=price\n",
    "    def to_dict(self):\n",
    "        return {\"name\":self.name, \"price\":self.price}\n",
    "def load_products():\n",
    "    try:\n",
    "        products_file=open(\"products.json\",\"r+\")\n",
    "    except IOError:\n",
    "        return []\n",
    "    product_json=products_file.read()\n",
    "    product_data=loads(product_json)\n",
    "    \n",
    "    \n",
    "    products=[]\n",
    "    for product in product_data:\n",
    "        products.append(Product(product[\"name\"],product[\"price\"]))\n",
    "    products_file.close();\n",
    "    return products\n",
    "    \n",
    "def total_products(products):\n",
    "    total=0.0\n",
    "    for product in products:\n",
    "        total+=product.price\n",
    "    print(\"total price of product is ${}\\n\\n\".format(total))\n",
    "    \n",
    "def add_product(name,price):\n",
    "    new_product=Product(name,price)\n",
    "    products.append(new_product)\n",
    "    \n",
    "def list_products(products):\n",
    "    for p in products:\n",
    "        print(\"Products is : {} and its price${}\".format(p.name,p.price))\n",
    "\n",
    "def save_products(products):\n",
    "    products_savelist=[]\n",
    "    for product in products:\n",
    "        products_savelist.append(product.to_dict())\n",
    "    \n",
    "    products_file=open(\"products.json\",\"w+\")\n",
    "    products_file.write(dumps(products_savelist))\n",
    "    products_file.close\n",
    "products=load_products()\n",
    "\n",
    "while True:\n",
    "    print(\"type add to add a product\")\n",
    "    print(\"type quit to quit the program\")\n",
    "    print(\"type list of all products\")\n",
    "    command=input(\"Type a command\")\n",
    "    \n",
    "    if command==\"quit\":\n",
    "        save_products(products)\n",
    "        break\n",
    "    if command==\"add\":\n",
    "        product_name=input(\"enter the name of your product\")\n",
    "        try:\n",
    "            product_price=float(input(\"enter the price of your product\"))\n",
    "        except ValueError:\n",
    "            print(\"enter a valid price\")\n",
    "            continue\n",
    "        add_product(product_name,product_price)\n",
    "    if command==\"list\":\n",
    "        list_products(products)\n",
    "    if command==\"total\":\n",
    "        total_products(products)"
   ]
  },
  {
   "cell_type": "code",
   "execution_count": null,
   "metadata": {},
   "outputs": [],
   "source": []
  },
  {
   "cell_type": "code",
   "execution_count": null,
   "metadata": {},
   "outputs": [],
   "source": []
  }
 ],
 "metadata": {
  "kernelspec": {
   "display_name": "Python 3",
   "language": "python",
   "name": "python3"
  },
  "language_info": {
   "codemirror_mode": {
    "name": "ipython",
    "version": 3
   },
   "file_extension": ".py",
   "mimetype": "text/x-python",
   "name": "python",
   "nbconvert_exporter": "python",
   "pygments_lexer": "ipython3",
   "version": "3.6.5"
  }
 },
 "nbformat": 4,
 "nbformat_minor": 2
}
